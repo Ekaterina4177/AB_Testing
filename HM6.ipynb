{
  "nbformat": 4,
  "nbformat_minor": 0,
  "metadata": {
    "colab": {
      "provenance": [],
      "authorship_tag": "ABX9TyOGNidz9RT6DpNjnweo787M",
      "include_colab_link": true
    },
    "kernelspec": {
      "name": "python3",
      "display_name": "Python 3"
    },
    "language_info": {
      "name": "python"
    }
  },
  "cells": [
    {
      "cell_type": "markdown",
      "metadata": {
        "id": "view-in-github",
        "colab_type": "text"
      },
      "source": [
        "<a href=\"https://colab.research.google.com/github/Ekaterina4177/AB_Testing/blob/main/HM6.ipynb\" target=\"_parent\"><img src=\"https://colab.research.google.com/assets/colab-badge.svg\" alt=\"Open In Colab\"/></a>"
      ]
    },
    {
      "cell_type": "markdown",
      "source": [
        "**Task 1.** Продакт на главной mail.ru решил протестировать в рекомендательной ленте контента вместо карточек со статьями видеоплеер с короткими видео.\n",
        "\n",
        "Нынешний таймспент на юзера в день в среднем равен 25 минут, а стандартная ошибка (SD) равна 156.\n",
        "\n",
        "Мы предполагаем, что в новой версии таймспент на юзера в день изменится на 10%.\n",
        "\n",
        "Средний трафик 20000 человек в день.\n",
        "\n",
        "Посчитайте сколько дней необходимо держать эксперимент при alpha = 5% и beta = 20%."
      ],
      "metadata": {
        "id": "NC_ii0Q0CGMy"
      }
    },
    {
      "cell_type": "code",
      "execution_count": 6,
      "metadata": {
        "id": "vMSVdpgOCCIC"
      },
      "outputs": [],
      "source": [
        "import numpy as np\n",
        "import math\n",
        "from scipy.stats import norm, t"
      ]
    },
    {
      "cell_type": "code",
      "source": [
        "n = 20000 \n",
        "sd = 156 \n",
        "alpha = 0.05 \n",
        "beta = 0.2 \n",
        "prop_diff = 0.1  "
      ],
      "metadata": {
        "id": "GdYSuPgkCIAc"
      },
      "execution_count": 2,
      "outputs": []
    },
    {
      "cell_type": "code",
      "source": [
        "#необходимые статистические значения\n",
        "se = sd / np.sqrt(n) \n",
        "m = se * norm.ppf(1 - alpha/2)  \n",
        "delta = prop_diff * n  "
      ],
      "metadata": {
        "id": "-ehMA-tfCMd_"
      },
      "execution_count": 32,
      "outputs": []
    },
    {
      "cell_type": "code",
      "source": [
        "#критические значения для тестов:\n",
        "z_alpha = norm.ppf(1 - alpha)  \n",
        "z_beta = norm.ppf(1 - beta) "
      ],
      "metadata": {
        "id": "XKztLUNFCSHR"
      },
      "execution_count": 31,
      "outputs": []
    },
    {
      "cell_type": "code",
      "source": [
        "#время эксперимента:\n",
        "n_1 = (z_alpha*m + z_beta*sd/delta)**2\n",
        "n_2 = (z_alpha*m - z_beta*sd/delta)**2\n",
        "n_round = np.ceil(max(n_1, n_2))\n",
        "days = np.ceil(n_round/n) \n",
        "print(f\"Необходимо собрать данные в течении {int(days)} дней\")"
      ],
      "metadata": {
        "colab": {
          "base_uri": "https://localhost:8080/"
        },
        "id": "dfR4gtwlCVGa",
        "outputId": "f8cb745b-6cd2-4353-ff04-3e7f67c8f56e"
      },
      "execution_count": 30,
      "outputs": [
        {
          "output_type": "stream",
          "name": "stdout",
          "text": [
            "Необходимо собрать данные в течении 1 дней\n"
          ]
        }
      ]
    },
    {
      "cell_type": "markdown",
      "source": [
        "**Task 2.** Наша продуктовая команда в ecommerce магазине планирует запустить тест, направленный на ускорение загрузки сайта.\n",
        "\n",
        "Одна из основных метрик bounce rate в GA = 40%.\n",
        "\n",
        "Мы предполагаем, что при оптимизации сайта она изменится минимум на 20%.\n",
        "\n",
        "Средний трафик 4000 человек в день. Посчитайте сколько нам нужно дней держать эксперимент при alpha = 5% и beta = 20%"
      ],
      "metadata": {
        "id": "52IfIokjCruN"
      }
    },
    {
      "cell_type": "code",
      "source": [
        "import scipy.stats as stats"
      ],
      "metadata": {
        "id": "UQWLDN2FELVF"
      },
      "execution_count": 18,
      "outputs": []
    },
    {
      "cell_type": "code",
      "source": [
        "#расчет необходимого размера выборки:\n",
        "def sample_size(mean1, mean2, alpha, beta, power, baseline):\n",
        "    std1 = math.sqrt(baseline * (1 - baseline))\n",
        "    z_alpha = stats.norm.ppf(1 - alpha / 2)\n",
        "    z_beta = stats.norm.ppf(power)\n",
        "    std2 = std1 * math.sqrt((baseline - mean2) ** 2 / (mean1 - mean2) ** 2)\n",
        "    return ((std1 * z_alpha + std2 * z_beta) / (mean1 - mean2)) ** 2"
      ],
      "metadata": {
        "id": "jeSVl8fSCzJu"
      },
      "execution_count": 29,
      "outputs": []
    },
    {
      "cell_type": "code",
      "source": [
        "x = round(sample_size(mean1=0.4, mean2=-0.2, alpha=0.05, beta=0.2, power=0.8, baseline=0.4))\n",
        "print(f\"{x} дней нам нужно держать эксперимент при alpha = 5% и beta = 20%\")"
      ],
      "metadata": {
        "colab": {
          "base_uri": "https://localhost:8080/"
        },
        "id": "rJWIBqUnDST9",
        "outputId": "ea4ce144-36b7-4a50-dc75-4a062f6c7dfb"
      },
      "execution_count": 28,
      "outputs": [
        {
          "output_type": "stream",
          "name": "stdout",
          "text": [
            "5 дней нам нужно держать эксперимент при alpha = 5% и beta = 20%\n"
          ]
        }
      ]
    }
  ]
}