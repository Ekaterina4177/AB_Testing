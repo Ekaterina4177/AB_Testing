{
  "nbformat": 4,
  "nbformat_minor": 0,
  "metadata": {
    "colab": {
      "provenance": [],
      "authorship_tag": "ABX9TyNRiRRzQS93935FSKr+/TX1",
      "include_colab_link": true
    },
    "kernelspec": {
      "name": "python3",
      "display_name": "Python 3"
    },
    "language_info": {
      "name": "python"
    }
  },
  "cells": [
    {
      "cell_type": "markdown",
      "metadata": {
        "id": "view-in-github",
        "colab_type": "text"
      },
      "source": [
        "<a href=\"https://colab.research.google.com/github/Ekaterina4177/AB_Testing/blob/main/Untitled5.ipynb\" target=\"_parent\"><img src=\"https://colab.research.google.com/assets/colab-badge.svg\" alt=\"Open In Colab\"/></a>"
      ]
    },
    {
      "cell_type": "markdown",
      "source": [
        "**Task 1**. Вы провели эксперимент c упрощением формы заказа в магазине Утконос и получили результаты по метрике конверсий в покупку. Выберите метод оценки и оцените есть ли статистически значимые различия между конверсиями в двух группах при alpha = 5%. \n",
        "\n",
        "Дайте краткие рекомендации команде.\n",
        "\n",
        "**Результаты:**\n",
        "\n",
        "1) Число юзеров в группах, которые заходили на сайт в период эксперимента: n1 = 15550 и n2 = 15550;\n",
        "\n",
        "2) Число юзеров в группах , которые совершили хотя бы одну покупку за период эксперимента: n1 = 164 и n2 = 228;\n",
        "\n",
        "3) Конверсии : conv1 = 1.05% conv2 = 1.47%.\n"
      ],
      "metadata": {
        "id": "LE6yBLle8vhn"
      }
    },
    {
      "cell_type": "markdown",
      "source": [
        "**Решение:**\n",
        "\n",
        "p1 и p2 - конверсии в группах, N1 и N2 - количество юзеров в группах, которые заходили на сайт в период эксперимента, n1 и n2 - количество юзеров, которые совершили хотя бы одну покупку за период эксперимента."
      ],
      "metadata": {
        "id": "ndhr1Has9JPY"
      }
    },
    {
      "cell_type": "code",
      "source": [
        "from math import sqrt"
      ],
      "metadata": {
        "id": "0MF8Uaaz9TDK"
      },
      "execution_count": 2,
      "outputs": []
    },
    {
      "cell_type": "code",
      "execution_count": 1,
      "metadata": {
        "colab": {
          "base_uri": "https://localhost:8080/"
        },
        "id": "LhAgWgS68gfz",
        "outputId": "ad926c3f-3379-4f75-9aa2-60f6b6a3d6c9"
      },
      "outputs": [
        {
          "output_type": "execute_result",
          "data": {
            "text/plain": [
              "-3.2110930329358367"
            ]
          },
          "metadata": {},
          "execution_count": 1
        }
      ],
      "source": [
        "p1 = 164 / 15550\n",
        "\n",
        "p2 = 228 / 15550\n",
        "\n",
        "n1 = 164\n",
        "\n",
        "n2 = 228\n",
        "\n",
        "N1 = 15550\n",
        "\n",
        "N2 = N1\n",
        "\n",
        "p =  (n1 * p1 + n2 * p2) / (n1 + n2)\n",
        "\n",
        "Z = (p1 - p2) / sqrt(p * (1 - p) * (1/N1 + 1/N2))\n",
        "Z"
      ]
    },
    {
      "cell_type": "markdown",
      "source": [
        "**Ответ:** Критическое значение Z-критерия при α=5% и двухсторонней альтернативе равно 1.96. Так как расчетное значение Z меньше критического значения, т.е. -3.211... < 1.96 , то мы отвергаем нулевую гипотезу о равенстве конверсий в группах. Т.е., изменения внесенные в заказную форму в магазине Утконос дали статистически значимый эффект на уровень конверсии в покупку. \n",
        "\n",
        "**Рекомендуется использовать новую форму заказа.**"
      ],
      "metadata": {
        "id": "X9-4WcwV9xW9"
      }
    },
    {
      "cell_type": "markdown",
      "source": [
        "**Task 2.** Сравниваем метрику конверсия в покупку. Размер выборки - 10000 элементов в каждой группе. Какой статистический критерий тут лучше всего подойдёт и почему?\n",
        "\n",
        "**Ответ:** Если размер выборки достаточно большой (более 30 элементов в каждой группе), то может быть использован Z-критерий. В данном случае размер выборки составляет 10 000 элементов, то нужно использовать Z-критерий."
      ],
      "metadata": {
        "id": "RHN94Hx9-OjH"
      }
    }
  ]
}